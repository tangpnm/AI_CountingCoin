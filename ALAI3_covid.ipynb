{
  "nbformat": 4,
  "nbformat_minor": 0,
  "metadata": {
    "colab": {
      "name": "ALAI3_covid.ipynb",
      "provenance": [],
      "collapsed_sections": [],
      "toc_visible": true,
      "include_colab_link": true
    },
    "kernelspec": {
      "name": "python3",
      "display_name": "Python 3"
    },
    "accelerator": "GPU"
  },
  "cells": [
    {
      "cell_type": "markdown",
      "metadata": {
        "id": "view-in-github",
        "colab_type": "text"
      },
      "source": [
        "<a href=\"https://colab.research.google.com/github/tangpnm/AI_CountingCoin/blob/master/ALAI3_covid.ipynb\" target=\"_parent\"><img src=\"https://colab.research.google.com/assets/colab-badge.svg\" alt=\"Open In Colab\"/></a>"
      ]
    },
    {
      "cell_type": "markdown",
      "metadata": {
        "id": "zQbkaHLR8cTP"
      },
      "source": [
        "**Import necessary libraries**"
      ]
    },
    {
      "cell_type": "code",
      "metadata": {
        "id": "9_NbNIc7walc"
      },
      "source": [
        "import cv2\n",
        "import numpy as np\n",
        "from matplotlib import pyplot as plt\n",
        "import glob\n",
        "from PIL import Image\n",
        "import pandas as pd\n",
        "\n",
        "from sklearn.model_selection import train_test_split\n",
        "\n",
        "import tensorflow as tf\n",
        "from tensorflow.keras.models import Sequential \n",
        "from tensorflow.keras import layers"
      ],
      "execution_count": null,
      "outputs": []
    },
    {
      "cell_type": "markdown",
      "metadata": {
        "id": "-MHJObYONLHw"
      },
      "source": [
        ""
      ]
    },
    {
      "cell_type": "markdown",
      "metadata": {
        "id": "CDN4Hici8awd"
      },
      "source": [
        "# **TRAIN**"
      ]
    },
    {
      "cell_type": "markdown",
      "metadata": {
        "id": "AN-BaTMh9MjO"
      },
      "source": [
        "**Import class for COVID images of training set**"
      ]
    },
    {
      "cell_type": "code",
      "metadata": {
        "id": "VUsbhJi2wkT1"
      },
      "source": [
        "train_x=[]\n",
        "\n",
        "path=r'/content/drive/My Drive/cognitive computing/Data/datasets/train/positive/*.jpeg'\n",
        "\n",
        "for filename in glob.glob(path): \n",
        "    im=Image.open(filename).convert('L') # convert('L') - converts RGB images (if any) to grayscale\n",
        "    img = im.resize((100, 100)) \n",
        "    train_x.append(tf.keras.preprocessing.image.img_to_array(img))"
      ],
      "execution_count": null,
      "outputs": []
    },
    {
      "cell_type": "markdown",
      "metadata": {
        "id": "dB8wnC2Q9ia4"
      },
      "source": [
        "**Create train_y pf size COVID**"
      ]
    },
    {
      "cell_type": "code",
      "metadata": {
        "id": "TkvJFODWxFoh"
      },
      "source": [
        "a=len(train_x)\n",
        "train_y=np.zeros(a)"
      ],
      "execution_count": null,
      "outputs": []
    },
    {
      "cell_type": "markdown",
      "metadata": {
        "id": "xbT5hAkg9t-S"
      },
      "source": [
        "**Import class for NORMAL images of training set**"
      ]
    },
    {
      "cell_type": "code",
      "metadata": {
        "id": "wM3kCuhfxaMd"
      },
      "source": [
        "path=r'/content/drive/My Drive/cognitive computing/Data/datasets/train/negative/*.jpeg'\n",
        "\n",
        "for filename in glob.glob(path): \n",
        "    im=Image.open(filename).convert('L') # convert('L') - converts RGB images (if any) to grayscale\n",
        "    img = im.resize((100, 100)) \n",
        "    train_x.append(tf.keras.preprocessing.image.img_to_array(img))"
      ],
      "execution_count": null,
      "outputs": []
    },
    {
      "cell_type": "markdown",
      "metadata": {
        "id": "gs8pHVMY94Iy"
      },
      "source": [
        "**Concatenate with the COVID training set to be in trainx**"
      ]
    },
    {
      "cell_type": "code",
      "metadata": {
        "id": "kfcSK9ryxj8D"
      },
      "source": [
        "b=len(train_x)\n",
        "trainy=np.concatenate((train_y,np.ones(b-a)))"
      ],
      "execution_count": null,
      "outputs": []
    },
    {
      "cell_type": "code",
      "metadata": {
        "id": "NoFSFglniznx",
        "outputId": "e99eb3cb-c32a-4437-8185-d498e5b8ddb4",
        "colab": {
          "base_uri": "https://localhost:8080/",
          "height": 34
        }
      },
      "source": [
        "print(b)"
      ],
      "execution_count": null,
      "outputs": [
        {
          "output_type": "stream",
          "text": [
            "0\n"
          ],
          "name": "stdout"
        }
      ]
    },
    {
      "cell_type": "code",
      "metadata": {
        "id": "_PInQrnlx1eg",
        "outputId": "e50ee3ee-8e84-4249-981f-77dc44a1d46c",
        "colab": {
          "base_uri": "https://localhost:8080/",
          "height": 317
        }
      },
      "source": [
        "trainx = np.stack(train_x) # Converts the list of arrays to a array of arrays"
      ],
      "execution_count": null,
      "outputs": [
        {
          "output_type": "error",
          "ename": "ValueError",
          "evalue": "ignored",
          "traceback": [
            "\u001b[0;31m---------------------------------------------------------------------------\u001b[0m",
            "\u001b[0;31mValueError\u001b[0m                                Traceback (most recent call last)",
            "\u001b[0;32m<ipython-input-6-484fb5185b3f>\u001b[0m in \u001b[0;36m<module>\u001b[0;34m()\u001b[0m\n\u001b[0;32m----> 1\u001b[0;31m \u001b[0mtrainx\u001b[0m \u001b[0;34m=\u001b[0m \u001b[0mnp\u001b[0m\u001b[0;34m.\u001b[0m\u001b[0mstack\u001b[0m\u001b[0;34m(\u001b[0m\u001b[0mtrain_x\u001b[0m\u001b[0;34m)\u001b[0m \u001b[0;31m# Converts the list of arrays to a array of arrays\u001b[0m\u001b[0;34m\u001b[0m\u001b[0;34m\u001b[0m\u001b[0m\n\u001b[0m",
            "\u001b[0;32m<__array_function__ internals>\u001b[0m in \u001b[0;36mstack\u001b[0;34m(*args, **kwargs)\u001b[0m\n",
            "\u001b[0;32m/usr/local/lib/python3.6/dist-packages/numpy/core/shape_base.py\u001b[0m in \u001b[0;36mstack\u001b[0;34m(arrays, axis, out)\u001b[0m\n\u001b[1;32m    420\u001b[0m     \u001b[0marrays\u001b[0m \u001b[0;34m=\u001b[0m \u001b[0;34m[\u001b[0m\u001b[0masanyarray\u001b[0m\u001b[0;34m(\u001b[0m\u001b[0marr\u001b[0m\u001b[0;34m)\u001b[0m \u001b[0;32mfor\u001b[0m \u001b[0marr\u001b[0m \u001b[0;32min\u001b[0m \u001b[0marrays\u001b[0m\u001b[0;34m]\u001b[0m\u001b[0;34m\u001b[0m\u001b[0;34m\u001b[0m\u001b[0m\n\u001b[1;32m    421\u001b[0m     \u001b[0;32mif\u001b[0m \u001b[0;32mnot\u001b[0m \u001b[0marrays\u001b[0m\u001b[0;34m:\u001b[0m\u001b[0;34m\u001b[0m\u001b[0;34m\u001b[0m\u001b[0m\n\u001b[0;32m--> 422\u001b[0;31m         \u001b[0;32mraise\u001b[0m \u001b[0mValueError\u001b[0m\u001b[0;34m(\u001b[0m\u001b[0;34m'need at least one array to stack'\u001b[0m\u001b[0;34m)\u001b[0m\u001b[0;34m\u001b[0m\u001b[0;34m\u001b[0m\u001b[0m\n\u001b[0m\u001b[1;32m    423\u001b[0m \u001b[0;34m\u001b[0m\u001b[0m\n\u001b[1;32m    424\u001b[0m     \u001b[0mshapes\u001b[0m \u001b[0;34m=\u001b[0m \u001b[0;34m{\u001b[0m\u001b[0marr\u001b[0m\u001b[0;34m.\u001b[0m\u001b[0mshape\u001b[0m \u001b[0;32mfor\u001b[0m \u001b[0marr\u001b[0m \u001b[0;32min\u001b[0m \u001b[0marrays\u001b[0m\u001b[0;34m}\u001b[0m\u001b[0;34m\u001b[0m\u001b[0;34m\u001b[0m\u001b[0m\n",
            "\u001b[0;31mValueError\u001b[0m: need at least one array to stack"
          ]
        }
      ]
    },
    {
      "cell_type": "code",
      "metadata": {
        "id": "cIH_gbkB4CRG",
        "outputId": "a0b102c4-702b-48dd-b3cb-c5f2a812f069",
        "colab": {
          "base_uri": "https://localhost:8080/",
          "height": 34
        }
      },
      "source": [
        "len(trainx)"
      ],
      "execution_count": null,
      "outputs": [
        {
          "output_type": "execute_result",
          "data": {
            "text/plain": [
              "115"
            ]
          },
          "metadata": {
            "tags": []
          },
          "execution_count": 9
        }
      ]
    },
    {
      "cell_type": "code",
      "metadata": {
        "id": "Y0MuLh0Zx4CZ",
        "outputId": "774a9100-0aa9-47e9-8410-2adf15e6988f",
        "colab": {
          "base_uri": "https://localhost:8080/",
          "height": 117
        }
      },
      "source": [
        "img = tf.keras.preprocessing.image.array_to_img(trainx[0]) \n",
        "img"
      ],
      "execution_count": null,
      "outputs": [
        {
          "output_type": "execute_result",
          "data": {
            "image/png": "[encoded data removed]",
            "text/plain": [
              "<PIL.Image.Image image mode=L size=100x100 at 0x7FB0E9837828>"
            ]
          },
          "metadata": {
            "tags": []
          },
          "execution_count": 10
        }
      ]
    },
    {
      "cell_type": "markdown",
      "metadata": {
        "id": "iLBHGZPX8ZaQ"
      },
      "source": [
        "# **VALID**"
      ]
    },
    {
      "cell_type": "markdown",
      "metadata": {
        "id": "jd5pvNRa-OtC"
      },
      "source": [
        "**Import class normal for validation set**"
      ]
    },
    {
      "cell_type": "code",
      "metadata": {
        "id": "y4kd9qi68fPY"
      },
      "source": [
        "val_x=[]\n",
        "\n",
        "path=r'/content/drive/My Drive/cognitive computing/Data/dataset/normal/*.jpeg'\n",
        "\n",
        "for filename in glob.glob(path): \n",
        "    im=Image.open(filename).convert('L') # convert('L') - converts RGB images (if any) to grayscale\n",
        "    img = im.resize((100, 100)) \n",
        "    val_x.append(tf.keras.preprocessing.image.img_to_array(img))"
      ],
      "execution_count": null,
      "outputs": []
    },
    {
      "cell_type": "markdown",
      "metadata": {
        "id": "HtUFSfrl-Wpi"
      },
      "source": [
        "**Create val_y of size NORMAL validation set**"
      ]
    },
    {
      "cell_type": "code",
      "metadata": {
        "id": "imr0-ws08lAk"
      },
      "source": [
        "a=len(val_x)\n",
        "val_y=np.zeros(a)"
      ],
      "execution_count": null,
      "outputs": []
    },
    {
      "cell_type": "markdown",
      "metadata": {
        "id": "euujXqMR-i2h"
      },
      "source": [
        "**Import class COVID for validation set**"
      ]
    },
    {
      "cell_type": "code",
      "metadata": {
        "id": "5qCLgGiE8n8h"
      },
      "source": [
        "path=r'/content/drive/My Drive/cognitive computing/Data/dataset/covid/*.jpeg'\n",
        "\n",
        "for filename in glob.glob(path): \n",
        "    im=Image.open(filename).convert('L') # convert('L') - converts RGB images (if any) to grayscale\n",
        "    img = im.resize((100, 100)) \n",
        "    val_x.append(tf.keras.preprocessing.image.img_to_array(img))"
      ],
      "execution_count": null,
      "outputs": []
    },
    {
      "cell_type": "markdown",
      "metadata": {
        "id": "WTvLp29L-qPj"
      },
      "source": [
        "**Concatenate of validation set to be valx**"
      ]
    },
    {
      "cell_type": "code",
      "metadata": {
        "id": "kyMH0yPY8sOc"
      },
      "source": [
        "b=len(val_x)\n",
        "valy=np.concatenate((val_y,np.ones(b-a)))"
      ],
      "execution_count": null,
      "outputs": []
    },
    {
      "cell_type": "code",
      "metadata": {
        "id": "r3eElzgq8vHO"
      },
      "source": [
        "valx = np.stack(val_x)"
      ],
      "execution_count": null,
      "outputs": []
    },
    {
      "cell_type": "code",
      "metadata": {
        "id": "NgPhl4LE8x6n",
        "outputId": "175e63c5-3945-43f2-bae9-2a2019bd454e",
        "colab": {
          "base_uri": "https://localhost:8080/",
          "height": 51
        }
      },
      "source": [
        "print('train shape : ',trainx.shape)\n",
        "print('valid shape : ',valx.shape)"
      ],
      "execution_count": null,
      "outputs": [
        {
          "output_type": "stream",
          "text": [
            "train shape :  (115, 100, 100, 1)\n",
            "valid shape :  (42, 100, 100, 1)\n"
          ],
          "name": "stdout"
        }
      ]
    },
    {
      "cell_type": "markdown",
      "metadata": {
        "id": "zzYzJt1182Lb"
      },
      "source": [
        "# **TEST**"
      ]
    },
    {
      "cell_type": "markdown",
      "metadata": {
        "id": "36YbCp-n-1xt"
      },
      "source": [
        "**Import NORMAL class for test set**"
      ]
    },
    {
      "cell_type": "code",
      "metadata": {
        "id": "xtp3bPct1vpK"
      },
      "source": [
        "test_x=[]\n",
        "\n",
        "path=r'/content/drive/My Drive/cognitive computing/Data/datasets/test/negative/*.jpeg'\n",
        "\n",
        "for filename in glob.glob(path): \n",
        "    im=Image.open(filename).convert('L') # convert('L') - converts RGB images (if any) to grayscale\n",
        "    img = im.resize((100, 100)) \n",
        "    test_x.append(tf.keras.preprocessing.image.img_to_array(img))\n"
      ],
      "execution_count": null,
      "outputs": []
    },
    {
      "cell_type": "markdown",
      "metadata": {
        "id": "nmJ30zvr-9WS"
      },
      "source": [
        "**Create test_y for test set**"
      ]
    },
    {
      "cell_type": "code",
      "metadata": {
        "id": "zajRumU858iz"
      },
      "source": [
        "a=len(test_x)\n",
        "test_y=np.zeros(a)"
      ],
      "execution_count": null,
      "outputs": []
    },
    {
      "cell_type": "markdown",
      "metadata": {
        "id": "FQ1rri-W_BPU"
      },
      "source": [
        "**Import COVID class for test set**"
      ]
    },
    {
      "cell_type": "code",
      "metadata": {
        "id": "GvKlEpT06GUB"
      },
      "source": [
        "path=r'/content/drive/My Drive/cognitive computing/Data/datasets/test/positive/*.jpeg'\n",
        "\n",
        "for filename in glob.glob(path): \n",
        "    im=Image.open(filename).convert('L') # convert('L') - converts RGB images (if any) to grayscale\n",
        "    img = im.resize((100, 100)) \n",
        "    test_x.append(tf.keras.preprocessing.image.img_to_array(img))"
      ],
      "execution_count": null,
      "outputs": []
    },
    {
      "cell_type": "markdown",
      "metadata": {
        "id": "b3SkmM-h_LJR"
      },
      "source": [
        "**Concatenate for test set both NORMAL and COVID**"
      ]
    },
    {
      "cell_type": "code",
      "metadata": {
        "id": "P9iGgGVi6K6N"
      },
      "source": [
        "b=len(test_x)\n",
        "testy=np.concatenate((test_y,np.ones(b-a)))"
      ],
      "execution_count": null,
      "outputs": []
    },
    {
      "cell_type": "code",
      "metadata": {
        "id": "AIYB0xZ86ecn"
      },
      "source": [
        "testx = np.stack(test_x) # Converts the list of arrays to a array of arrays"
      ],
      "execution_count": null,
      "outputs": []
    },
    {
      "cell_type": "code",
      "metadata": {
        "id": "lcndLiOl7iFP"
      },
      "source": [
        "tx,vx,ty,vy=train_test_split(trainx,trainy)"
      ],
      "execution_count": null,
      "outputs": []
    },
    {
      "cell_type": "markdown",
      "metadata": {
        "id": "ZgBDMrCd_Uc6"
      },
      "source": [
        "# **TRAIN MODEL**"
      ]
    },
    {
      "cell_type": "code",
      "metadata": {
        "id": "EcfXFK4w9GTb",
        "outputId": "30e5ddce-a556-4db3-a594-f08c58f0bc89",
        "colab": {
          "base_uri": "https://localhost:8080/",
          "height": 921
        }
      },
      "source": [
        "tf.random.set_seed(1234)\n",
        "es=tf.keras.callbacks.EarlyStopping(monitor='loss',patience=5) # to prevent overfitting\n",
        "\n",
        "model=tf.keras.Sequential(\n",
        "[\n",
        "    layers.Conv2D(filters=60, kernel_size=(3, 3), activation='relu', padding='same'),    \n",
        "    layers.MaxPooling2D(pool_size=(4, 4)),\n",
        "    layers.Dropout(0.25),\n",
        "            \n",
        "    layers.Conv2D(40, (3, 3), activation='relu'),\n",
        "    layers.MaxPooling2D(pool_size=(8, 8)),\n",
        "    layers.Dropout(0.2),  \n",
        "    \n",
        "    layers.Flatten(),\n",
        "    layers.Dense(512, activation='relu'),\n",
        "    layers.Dense(128, activation='relu'),\n",
        "    layers.Dense(1,activation='sigmoid')\n",
        "    \n",
        "])\n",
        "\n",
        "model.compile(loss='BinaryCrossentropy',optimizer='adam',metrics=['accuracy'])\n",
        "mod=model.fit(tx,ty,validation_data=(vx,vy),batch_size=20,epochs=30,callbacks=[es])"
      ],
      "execution_count": null,
      "outputs": [
        {
          "output_type": "stream",
          "text": [
            "Epoch 1/30\n",
            "5/5 [==============================] - 0s 31ms/step - loss: 31.3934 - accuracy: 0.5116 - val_loss: 1.6831 - val_accuracy: 0.4483\n",
            "Epoch 2/30\n",
            "5/5 [==============================] - 0s 11ms/step - loss: 7.6074 - accuracy: 0.4070 - val_loss: 0.8916 - val_accuracy: 0.5517\n",
            "Epoch 3/30\n",
            "5/5 [==============================] - 0s 9ms/step - loss: 1.4914 - accuracy: 0.6163 - val_loss: 0.7342 - val_accuracy: 0.4483\n",
            "Epoch 4/30\n",
            "5/5 [==============================] - 0s 9ms/step - loss: 1.3285 - accuracy: 0.5000 - val_loss: 0.6777 - val_accuracy: 0.6897\n",
            "Epoch 5/30\n",
            "5/5 [==============================] - 0s 9ms/step - loss: 0.7065 - accuracy: 0.6860 - val_loss: 0.6124 - val_accuracy: 0.7931\n",
            "Epoch 6/30\n",
            "5/5 [==============================] - 0s 9ms/step - loss: 0.7208 - accuracy: 0.6744 - val_loss: 0.6401 - val_accuracy: 0.7931\n",
            "Epoch 7/30\n",
            "5/5 [==============================] - 0s 9ms/step - loss: 0.5483 - accuracy: 0.7558 - val_loss: 0.6243 - val_accuracy: 0.8276\n",
            "Epoch 8/30\n",
            "5/5 [==============================] - 0s 9ms/step - loss: 0.4898 - accuracy: 0.7326 - val_loss: 0.5650 - val_accuracy: 0.8966\n",
            "Epoch 9/30\n",
            "5/5 [==============================] - 0s 8ms/step - loss: 0.4617 - accuracy: 0.7326 - val_loss: 0.4591 - val_accuracy: 0.9655\n",
            "Epoch 10/30\n",
            "5/5 [==============================] - 0s 8ms/step - loss: 0.3480 - accuracy: 0.8488 - val_loss: 0.4005 - val_accuracy: 0.8966\n",
            "Epoch 11/30\n",
            "5/5 [==============================] - 0s 8ms/step - loss: 0.3299 - accuracy: 0.8721 - val_loss: 0.3745 - val_accuracy: 0.8966\n",
            "Epoch 12/30\n",
            "5/5 [==============================] - 0s 8ms/step - loss: 0.2258 - accuracy: 0.9302 - val_loss: 0.4001 - val_accuracy: 0.9310\n",
            "Epoch 13/30\n",
            "5/5 [==============================] - 0s 8ms/step - loss: 0.2889 - accuracy: 0.8837 - val_loss: 0.3787 - val_accuracy: 0.9310\n",
            "Epoch 14/30\n",
            "5/5 [==============================] - 0s 9ms/step - loss: 0.2361 - accuracy: 0.9186 - val_loss: 0.3781 - val_accuracy: 0.9310\n",
            "Epoch 15/30\n",
            "5/5 [==============================] - 0s 8ms/step - loss: 0.1962 - accuracy: 0.9070 - val_loss: 0.3840 - val_accuracy: 0.8966\n",
            "Epoch 16/30\n",
            "5/5 [==============================] - 0s 8ms/step - loss: 0.2258 - accuracy: 0.9186 - val_loss: 0.3331 - val_accuracy: 0.8966\n",
            "Epoch 17/30\n",
            "5/5 [==============================] - 0s 8ms/step - loss: 0.1525 - accuracy: 0.9419 - val_loss: 0.2782 - val_accuracy: 0.8966\n",
            "Epoch 18/30\n",
            "5/5 [==============================] - 0s 9ms/step - loss: 0.1758 - accuracy: 0.9419 - val_loss: 0.3703 - val_accuracy: 0.8966\n",
            "Epoch 19/30\n",
            "5/5 [==============================] - 0s 9ms/step - loss: 0.1745 - accuracy: 0.9419 - val_loss: 0.3576 - val_accuracy: 0.8966\n",
            "Epoch 20/30\n",
            "5/5 [==============================] - 0s 9ms/step - loss: 0.1840 - accuracy: 0.9186 - val_loss: 0.3684 - val_accuracy: 0.8966\n",
            "Epoch 21/30\n",
            "5/5 [==============================] - 0s 8ms/step - loss: 0.0979 - accuracy: 0.9767 - val_loss: 0.4030 - val_accuracy: 0.8966\n",
            "Epoch 22/30\n",
            "5/5 [==============================] - 0s 8ms/step - loss: 0.1380 - accuracy: 0.9419 - val_loss: 0.4089 - val_accuracy: 0.8966\n",
            "Epoch 23/30\n",
            "5/5 [==============================] - 0s 8ms/step - loss: 0.1335 - accuracy: 0.9767 - val_loss: 0.4150 - val_accuracy: 0.8966\n",
            "Epoch 24/30\n",
            "5/5 [==============================] - 0s 8ms/step - loss: 0.1421 - accuracy: 0.9767 - val_loss: 0.5084 - val_accuracy: 0.9310\n",
            "Epoch 25/30\n",
            "5/5 [==============================] - 0s 8ms/step - loss: 0.1220 - accuracy: 0.9535 - val_loss: 0.5453 - val_accuracy: 0.9310\n",
            "Epoch 26/30\n",
            "5/5 [==============================] - 0s 8ms/step - loss: 0.1515 - accuracy: 0.9070 - val_loss: 0.4975 - val_accuracy: 0.9310\n"
          ],
          "name": "stdout"
        }
      ]
    },
    {
      "cell_type": "markdown",
      "metadata": {
        "id": "lUG8DNrc_Zu5"
      },
      "source": [
        "**VISUALIZE the performance the accuracy**"
      ]
    },
    {
      "cell_type": "code",
      "metadata": {
        "id": "O_tBP66E9WAu",
        "outputId": "b8408cf7-c42a-4c58-889c-4d922b40b8c7",
        "colab": {
          "base_uri": "https://localhost:8080/",
          "height": 373
        }
      },
      "source": [
        "fig=plt.subplots(figsize=(30,10))\n",
        "\n",
        "plt.subplot(1,2,1)\n",
        "plt.plot(mod.history['accuracy'])\n",
        "plt.plot(mod.history['val_accuracy'])\n",
        "plt.title('Accuracy')\n",
        "plt.xlabel('Epoch')\n",
        "plt.ylabel('Accuracy')\n",
        "plt.legend(['Training Accuracy','Validation Accuracy'])\n",
        "\n",
        "plt.subplot(1,2,2)\n",
        "plt.plot(mod.history['loss'])\n",
        "plt.plot(mod.history['val_loss'])\n",
        "plt.title('Loss')\n",
        "plt.xlabel('Epoch')\n",
        "plt.ylabel('Loss')\n",
        "plt.legend(['Training Loss','Validation Loss'])\n",
        "\n",
        "plt.show()\n"
      ],
      "execution_count": null,
      "outputs": [
        {
          "output_type": "display_data",
          "data": {
            "image/png": "[encoded data removed]",
            "text/plain": [
              "<Figure size 2160x720 with 2 Axes>"
            ]
          },
          "metadata": {
            "tags": [],
            "needs_background": "light"
          }
        }
      ]
    },
    {
      "cell_type": "markdown",
      "metadata": {
        "id": "MDbM2cQ-_iMb"
      },
      "source": [
        "**Predicting the model**"
      ]
    },
    {
      "cell_type": "code",
      "metadata": {
        "id": "BcQG0kB4_QEu"
      },
      "source": [
        "pred=model.predict(testx)"
      ],
      "execution_count": null,
      "outputs": []
    },
    {
      "cell_type": "code",
      "metadata": {
        "id": "3d7dyR9qPPeW",
        "outputId": "fbc4f071-326b-4310-9fd7-a48ef11bfa04",
        "colab": {
          "base_uri": "https://localhost:8080/",
          "height": 117
        }
      },
      "source": [
        "img = tf.keras.preprocessing.image.array_to_img(testx[0]) \n",
        "img"
      ],
      "execution_count": null,
      "outputs": [
        {
          "output_type": "execute_result",
          "data": {
            "image/png": "[encoded data removed]",
            "text/plain": [
              "<PIL.Image.Image image mode=L size=100x100 at 0x7FB040199BE0>"
            ]
          },
          "metadata": {
            "tags": []
          },
          "execution_count": 31
        }
      ]
    },
    {
      "cell_type": "markdown",
      "metadata": {
        "id": "KnCPxs4O_oKc"
      },
      "source": [
        "**create the confusion matrix**"
      ]
    },
    {
      "cell_type": "code",
      "metadata": {
        "id": "W2OA8IJt_UAq",
        "outputId": "c6214727-f9ca-4b6c-bd17-0bd5f69005a9",
        "colab": {
          "base_uri": "https://localhost:8080/",
          "height": 68
        }
      },
      "source": [
        "for i in range(len(pred)):\n",
        "    if pred[i]>0.5:\n",
        "        pred[i]=0\n",
        "    else:\n",
        "        pred[i]=1\n",
        "\n",
        "tf.math.confusion_matrix(testy,pred)"
      ],
      "execution_count": null,
      "outputs": [
        {
          "output_type": "execute_result",
          "data": {
            "text/plain": [
              "<tf.Tensor: shape=(2, 2), dtype=int32, numpy=\n",
              "array([[41,  1],\n",
              "       [23, 36]], dtype=int32)>"
            ]
          },
          "metadata": {
            "tags": []
          },
          "execution_count": 82
        }
      ]
    },
    {
      "cell_type": "code",
      "metadata": {
        "id": "QqG4WxNWO9hZ"
      },
      "source": [
        ""
      ],
      "execution_count": null,
      "outputs": []
    }
  ]
}